{
 "cells": [
  {
   "cell_type": "code",
   "execution_count": null,
   "metadata": {},
   "outputs": [],
   "source": [
    "random_forest_grid = {'max_depth': [None, 3, 5],\n",
    "                      'max_features': ['sqrt', 'log2', None],\n",
    "                      'min_samples_split': [2, 4, 8],\n",
    "                      'min_samples_leaf': [1, 2, 4],\n",
    "                      'bootstrap': [True, False],\n",
    "                      'n_estimators': [50, 100, 150],\n",
    "                      'random_state': [1],\n",
    "                      'criterion': ['gini', 'entropy']\n",
    "    \n",
    "model_gridsearch = GridSearchCV(RandomForestClassifier(),\n",
    "                                random_forest_grid,\n",
    "                                n_jobs=-1,\n",
    "                                verbose=True,\n",
    "                                scoring='recall_score')\n",
    "model_gridsearch.fit(X_train, y_train)\n",
    "best_params = model_gridsearch.best_params_ \n",
    "model_best = model_gridsearch.best_estimator_\n",
    "print(\"\\nResult of gridsearch:\")\n",
    "print(\"{0:<20s} | {1:<8s} | {2}\".format(\"Parameter\", \"Optimal\", \"Gridsearch values\"))\n",
    "print(\"-\" * 55)\n",
    "for param, vals in random_forest_grid.items():\n",
    "    print(\"{0:<20s} | {1:<8s} | {2}\".format(str(param), \n",
    "                                            str(best_params[param]),\n",
    "                                            str(vals)))"
   ]
  },
  {
   "cell_type": "code",
   "execution_count": null,
   "metadata": {},
   "outputs": [],
   "source": [
    "rfc = RandomForestClassifier()\n",
    "rfc.fit(X_train, y_train)\n",
    "y_prob = rfc.predict_proba(X_val)\n"
   ]
  },
  {
   "cell_type": "code",
   "execution_count": null,
   "metadata": {},
   "outputs": [],
   "source": [
    "thresholds = [.1, .25, .5, .75, .9]\n",
    "\n",
    "for thres in thesholds:\n",
    "    y_pred = y_prob >.5\n",
    "    y_pred = y_pred.astype(int)\n",
    "    recall = recall_score(y_val, y_pred)\n",
    "    print(recall)\n",
    "\n",
    "    # plot a confusion matrix to get a better idea of how the model is predicting\n",
    "    conf_matrix = confusion_matrix(y_val, y_pred)\n",
    "    disp = ConfusionMatrixDisplay(confusion_matrix=conf_matrix)\n",
    "    disp.plot(cmap='Reds')\n",
    "\n",
    "    # Create a cost matrix to penalize False Negatives heavily, but also penalize False Positives\n",
    "    # Multiply the confusion matrix by the cost matrix to get the cost of the model\n",
    "    # We want to maximize recall while also decreasing the cost\n",
    "    cost_matrix = np.array([[0, 1],\n",
    "                            [5, 0]])\n",
    "    cost_disp = ConfusionMatrixDisplay(confusion_matrix=conf_matrix * cost_matrix)\n",
    "    cost_disp.plot(cmap='Reds')\n",
    "    cost = np.sum(conf_matrix * cost_matrix)\n",
    "    cost"
   ]
  }
 ],
 "metadata": {
  "kernelspec": {
   "display_name": "Python 3",
   "language": "python",
   "name": "python3"
  },
  "language_info": {
   "codemirror_mode": {
    "name": "ipython",
    "version": 3
   },
   "file_extension": ".py",
   "mimetype": "text/x-python",
   "name": "python",
   "nbconvert_exporter": "python",
   "pygments_lexer": "ipython3",
   "version": "3.8.5"
  }
 },
 "nbformat": 4,
 "nbformat_minor": 4
}
