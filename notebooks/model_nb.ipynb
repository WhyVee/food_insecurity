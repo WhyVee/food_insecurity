{
 "cells": [
  {
   "cell_type": "code",
   "execution_count": 1,
   "metadata": {},
   "outputs": [],
   "source": [
    "import pandas as pd\n",
    "import numpy as np\n",
    "from sklearn.model_selection import train_test_split, KFold, GridSearchCV\n",
    "from sklearn.metrics import recall_score, confusion_matrix, ConfusionMatrixDisplay, SCORERS\n",
    "from sklearn.neural_network import MLPClassifier\n",
    "from sklearn.ensemble import RandomForestClassifier, GradientBoostingClassifier"
   ]
  },
  {
   "cell_type": "code",
   "execution_count": 2,
   "metadata": {},
   "outputs": [],
   "source": [
    "filepath = '../data/eda_data.csv'\n",
    "data = pd.read_csv(filepath)"
   ]
  },
  {
   "cell_type": "code",
   "execution_count": 3,
   "metadata": {},
   "outputs": [],
   "source": [
    "X = data.drop('HRFS12M1', axis=1)\n",
    "y = data['HRFS12M1']"
   ]
  },
  {
   "cell_type": "code",
   "execution_count": 4,
   "metadata": {},
   "outputs": [
    {
     "data": {
      "text/plain": [
       "Index(['HURESPLI', 'HUFINAL', 'HULANGCODE', 'HETENURE', 'HEHOUSUT', 'HETELHHD',\n",
       "       'HETELAVL', 'HEPHONEO', 'HEFAMINC', 'HUTYPEA',\n",
       "       ...\n",
       "       'HESC2', 'HESC3', 'HESCF3', 'HESCM3', 'HESC3A', 'HESC4', 'HESCF4',\n",
       "       'HESCM4', 'HRSUPINT', 'HRPOOR'],\n",
       "      dtype='object', length=469)"
      ]
     },
     "execution_count": 4,
     "metadata": {},
     "output_type": "execute_result"
    }
   ],
   "source": [
    "X.columns"
   ]
  },
  {
   "cell_type": "markdown",
   "metadata": {},
   "source": [
    "After identifying the data leak, the columns were passed to the eda pipeline and removed. The below is no longer necessary to run, but left to show the process"
   ]
  },
  {
   "cell_type": "code",
   "execution_count": 5,
   "metadata": {},
   "outputs": [],
   "source": [
    "#data consists of ints representing classes, so need to create dummies for every column\n",
    "# X_dum = pd.get_dummies(data=X, columns=X.columns)"
   ]
  },
  {
   "cell_type": "code",
   "execution_count": 6,
   "metadata": {},
   "outputs": [],
   "source": [
    "#break the data into train (X_train, y_train), validation (X_val, y_val), and test (X_test, y_test).\n",
    "#set random state for reproduceability\n",
    "#data in imbalanced; stratify preserves the imbalance\n",
    "# X_sub, X_test, y_sub, y_test = train_test_split(X_dum, y, random_state=1234, stratify=y)\n",
    "# X_train, X_val, y_train, y_val = train_test_split(X_sub, y_sub, random_state=1234, stratify=y_sub)"
   ]
  },
  {
   "cell_type": "code",
   "execution_count": 12,
   "metadata": {},
   "outputs": [
    {
     "name": "stdout",
     "output_type": "stream",
     "text": [
      "MLPClassifier() 0.9987460815047022\n",
      "RandomForestClassifier() 0.993103448275862\n",
      "GradientBoostingClassifier() 0.9987460815047022\n"
     ]
    }
   ],
   "source": [
    "# #Test 3 different models to see which we can use for our base\n",
    "# #All 3 had a recall of >99%. There are likely more features causing data leakage that will need to be addressed\n",
    "# models = [MLPClassifier(), RandomForestClassifier(), GradientBoostingClassifier()]\n",
    "\n",
    "# for model in models:\n",
    "#     mod = model\n",
    "#     mod.fit(X_train, y_train)\n",
    "#     y_pred = mod.predict(X_val)\n",
    "#     recall = recall_score(y_val, y_pred)\n",
    "#     print(model, recall)"
   ]
  },
  {
   "cell_type": "code",
   "execution_count": 7,
   "metadata": {},
   "outputs": [],
   "source": [
    "# rfc = RandomForestClassifier()\n",
    "# rfc.fit(X_train, y_train)\n",
    "\n",
    "# feat_scores = pd.DataFrame({'Fraction of Samples Affected' : rfc.feature_importances_},\n",
    "#                            index=X_train.columns)\n",
    "# feat_scores = feat_scores.sort_values(by='Fraction of Samples Affected')"
   ]
  },
  {
   "cell_type": "code",
   "execution_count": 8,
   "metadata": {},
   "outputs": [
    {
     "name": "stdout",
     "output_type": "stream",
     "text": [
      "['HESH4', 'HESHF3', 'HESHM3', 'HESSM4', 'HETSHMF3', 'HESH3', 'HESSH1', 'HESS3', 'HESS2', 'HESSM6', 'HESS4', 'HESSH4', 'HESSH3', 'HESH2', 'HESH5', 'HESSH5', 'HESS6', 'HETSHMF2', 'HESHM2', 'HESSM3', 'HESHF2', 'HES9', 'HESSM2', 'HESSH2', 'HESS1', 'HESSM5']\n"
     ]
    }
   ],
   "source": [
    "# Taking a look at the 50 'top' columns. These included dummies, so removed the dummy addition to col\n",
    "# name and use list-set trick to find only unique col names. Referenced the accompanying PDF\n",
    "# to determine if they are in fact data leakage. Erred on the side of caution as the questions near\n",
    "# the line are difficult to distinguish as data leak vs not\n",
    "# feat_list = []\n",
    "# for feat in feat_scores[-50:].index:\n",
    "#     feat_list.append(feat.split('_')[0])\n",
    "    \n",
    "# feat_unique = list(set(feat_list))\n",
    "# print(feat_unique)"
   ]
  },
  {
   "cell_type": "code",
   "execution_count": 9,
   "metadata": {},
   "outputs": [],
   "source": [
    "# X = X.drop(feat_unique, axis=1)"
   ]
  },
  {
   "cell_type": "code",
   "execution_count": 10,
   "metadata": {},
   "outputs": [],
   "source": [
    "X_dum = pd.get_dummies(data=X, columns=X.columns)\n",
    "X_sub, X_test, y_sub, y_test = train_test_split(X_dum, y, random_state=1234, stratify=y)\n",
    "X_train, X_val, y_train, y_val = train_test_split(X_sub, y_sub, random_state=1234, stratify=y_sub)"
   ]
  },
  {
   "cell_type": "code",
   "execution_count": 11,
   "metadata": {},
   "outputs": [
    {
     "name": "stdout",
     "output_type": "stream",
     "text": [
      "0.6238244514106583\n"
     ]
    },
    {
     "data": {
      "text/plain": [
       "3035"
      ]
     },
     "execution_count": 11,
     "metadata": {},
     "output_type": "execute_result"
    },
    {
     "data": {
      "image/png": "[encoded data removed]",
      "text/plain": [
       "<Figure size 432x288 with 2 Axes>"
      ]
     },
     "metadata": {
      "needs_background": "light"
     },
     "output_type": "display_data"
    },
    {
     "data": {
      "image/png": "[encoded data removed]",
      "text/plain": [
       "<Figure size 432x288 with 2 Axes>"
      ]
     },
     "metadata": {
      "needs_background": "light"
     },
     "output_type": "display_data"
    }
   ],
   "source": [
    "#Recall fell significantly. We appear to have removed all data leakage\n",
    "rfc = RandomForestClassifier()\n",
    "rfc.fit(X_train, y_train)\n",
    "y_pred = rfc.predict(X_val)\n",
    "recall = recall_score(y_val, y_pred)\n",
    "print(recall)\n",
    "\n",
    "# plot a confusion matrix to get a better idea of how the model is predicting\n",
    "conf_matrix = confusion_matrix(y_val, y_pred)\n",
    "disp = ConfusionMatrixDisplay(confusion_matrix=conf_matrix)\n",
    "disp.plot(cmap='Reds')\n",
    "\n",
    "# Create a cost matrix to penalize False Negatives heavily, but also penalize False Positives\n",
    "# Multiply the confusion matrix by the cost matrix to get the cost of the model\n",
    "# We want to maximize recall while also decreasing the cost\n",
    "cost_matrix = np.array([[0, 1],\n",
    "                        [5, 0]])\n",
    "cost_disp = ConfusionMatrixDisplay(confusion_matrix=conf_matrix * cost_matrix)\n",
    "cost_disp.plot(cmap='Reds')\n",
    "cost = np.sum(conf_matrix * cost_matrix)\n",
    "cost"
   ]
  },
  {
   "cell_type": "code",
   "execution_count": 12,
   "metadata": {},
   "outputs": [],
   "source": [
    "def recall_cost_calc(model, X_train, X_test, y_train, y_test, cost_matrix):\n",
    "    model.fit(X_train, y_train)\n",
    "    y_pred = model.predict(X_test)\n",
    "    recall = recall_score(y_test, y_pred)\n",
    "    \n",
    "    conf_matrix = confusion_matrix(y_test, y_pred)\n",
    "    cost = np.sum(conf_matrix * cost_matrix)\n",
    "    \n",
    "    return recall, cost"
   ]
  },
  {
   "cell_type": "code",
   "execution_count": 13,
   "metadata": {},
   "outputs": [],
   "source": [
    "def get_avg_recall_cost(model, X, y, cost_matrix):\n",
    "    recall_list = []\n",
    "    cost_list = []\n",
    "    \n",
    "    kf = KFold()\n",
    "    \n",
    "    for train_index, test_index in kf.split(X):\n",
    "        X_train, X_test = X.iloc[train_index], X.iloc[test_index]\n",
    "        y_train, y_test = y[train_index], y[test_index]\n",
    "        \n",
    "        recall, cost = recall_cost_calc(model, X_train, X_test, y_train, y_test, cost_matrix)\n",
    "        recall_list.append(recall)\n",
    "        cost_list.append(cost)\n",
    "        \n",
    "    return np.mean(recall_list), np.mean(cost_list)"
   ]
  },
  {
   "cell_type": "code",
   "execution_count": 14,
   "metadata": {},
   "outputs": [],
   "source": [
    "# find the average recall and cost for Random Forest\n",
    "cost_matrix = np.array([[0, 1],\n",
    "                        [5, 0]])\n",
    "\n",
    "X_reset = X_sub.reset_index(drop=True)\n",
    "y_reset = y_sub.reset_index(drop=True)\n",
    "\n",
    "recall, cost = get_avg_recall_cost(RandomForestClassifier(), X_reset, y_reset, cost_matrix)"
   ]
  },
  {
   "cell_type": "code",
   "execution_count": 15,
   "metadata": {},
   "outputs": [
    {
     "name": "stdout",
     "output_type": "stream",
     "text": [
      "Random Forest recall: 0.6271847622541074, cost: 2417.4\n"
     ]
    }
   ],
   "source": [
    "# Now we have something to compare with the other models\n",
    "print(f'Random Forest recall: {recall}, cost: {cost}')"
   ]
  },
  {
   "cell_type": "code",
   "execution_count": 18,
   "metadata": {},
   "outputs": [
    {
     "name": "stdout",
     "output_type": "stream",
     "text": [
      "MLPClassifier() recall: 0.7969173781324035, cost: 1493.2\n",
      "GradientBoostingClassifier() recall: 0.7100260453280495, cost: 1990.6\n"
     ]
    }
   ],
   "source": [
    "# Run the other models through cross validation. The best performing model is what we'll \n",
    "# continue with and tune its hyperparameters\n",
    "models = [MLPClassifier(), GradientBoostingClassifier()]\n",
    "\n",
    "for model in models:\n",
    "    recall, cost = get_avg_recall_cost(model, X_reset, y_reset, cost_matrix)\n",
    "    print(f'{model} recall: {recall}, cost: {cost}')"
   ]
  },
  {
   "cell_type": "code",
   "execution_count": null,
   "metadata": {},
   "outputs": [
    {
     "name": "stdout",
     "output_type": "stream",
     "text": [
      "Fitting 5 folds for each of 972 candidates, totalling 4860 fits\n"
     ]
    },
    {
     "name": "stderr",
     "output_type": "stream",
     "text": [
      "[Parallel(n_jobs=-1)]: Using backend LokyBackend with 4 concurrent workers.\n",
      "[Parallel(n_jobs=-1)]: Done  42 tasks      | elapsed:  7.0min\n",
      "[Parallel(n_jobs=-1)]: Done 192 tasks      | elapsed: 24.2min\n"
     ]
    }
   ],
   "source": [
    "random_forest_grid = {'max_depth': [None, 3, 5],\n",
    "                      'max_features': ['sqrt', 'log2', None],\n",
    "                      'min_samples_split': [2, 4, 8],\n",
    "                      'min_samples_leaf': [1, 2, 4],\n",
    "                      'bootstrap': [True, False],\n",
    "                      'n_estimators': [50, 100, 150],\n",
    "                      'random_state': [1],\n",
    "                      'criterion': ['gini', 'entropy']}\n",
    "    \n",
    "model_gridsearch = GridSearchCV(RandomForestClassifier(),\n",
    "                                random_forest_grid,\n",
    "                                n_jobs=-1,\n",
    "                                verbose=True,\n",
    "                                scoring='recall')\n",
    "model_gridsearch.fit(X_train, y_train)\n",
    "best_params = model_gridsearch.best_params_ \n",
    "model_best = model_gridsearch.best_estimator_\n",
    "print(\"\\nResult of gridsearch:\")\n",
    "print(\"{0:<20s} | {1:<8s} | {2}\".format(\"Parameter\", \"Optimal\", \"Gridsearch values\"))\n",
    "print(\"-\" * 55)\n",
    "for param, vals in random_forest_grid.items():\n",
    "    print(\"{0:<20s} | {1:<8s} | {2}\".format(str(param), \n",
    "                                            str(best_params[param]),\n",
    "                                            str(vals)))"
   ]
  },
  {
   "cell_type": "code",
   "execution_count": null,
   "metadata": {},
   "outputs": [],
   "source": [
    "rfc = RandomForestClassifier()\n",
    "rfc.fit(X_train, y_train)\n",
    "y_prob = rfc.predict_proba(X_val)\n"
   ]
  },
  {
   "cell_type": "code",
   "execution_count": null,
   "metadata": {},
   "outputs": [],
   "source": [
    "thresholds = [.1, .25, .5, .75, .9]\n",
    "\n",
    "for thres in thesholds:\n",
    "    y_pred = y_prob >.5\n",
    "    y_pred = y_pred.astype(int)\n",
    "    recall = recall_score(y_val, y_pred)\n",
    "    print(recall)\n",
    "\n",
    "    # plot a confusion matrix to get a better idea of how the model is predicting\n",
    "    conf_matrix = confusion_matrix(y_val, y_pred)\n",
    "    disp = ConfusionMatrixDisplay(confusion_matrix=conf_matrix)\n",
    "    disp.plot(cmap='Reds')\n",
    "\n",
    "    # Create a cost matrix to penalize False Negatives heavily, but also penalize False Positives\n",
    "    # Multiply the confusion matrix by the cost matrix to get the cost of the model\n",
    "    # We want to maximize recall while also decreasing the cost\n",
    "    cost_matrix = np.array([[0, 1],\n",
    "                            [5, 0]])\n",
    "    cost_disp = ConfusionMatrixDisplay(confusion_matrix=conf_matrix * cost_matrix)\n",
    "    cost_disp.plot(cmap='Reds')\n",
    "    cost = np.sum(conf_matrix * cost_matrix)\n",
    "    cost"
   ]
  }
 ],
 "metadata": {
  "kernelspec": {
   "display_name": "Python 3",
   "language": "python",
   "name": "python3"
  },
  "language_info": {
   "codemirror_mode": {
    "name": "ipython",
    "version": 3
   },
   "file_extension": ".py",
   "mimetype": "text/x-python",
   "name": "python",
   "nbconvert_exporter": "python",
   "pygments_lexer": "ipython3",
   "version": "3.8.5"
  }
 },
 "nbformat": 4,
 "nbformat_minor": 4
}
