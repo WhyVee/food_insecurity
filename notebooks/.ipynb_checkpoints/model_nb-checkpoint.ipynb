{
 "cells": [
  {
   "cell_type": "code",
   "execution_count": 1,
   "metadata": {},
   "outputs": [],
   "source": [
    "import pandas as pd\n",
    "from sklearn.model_selection import train_test_split\n",
    "from sklearn.metrics import recall_score"
   ]
  },
  {
   "cell_type": "code",
   "execution_count": 2,
   "metadata": {},
   "outputs": [],
   "source": [
    "filepath = '../data/eda_data.csv'\n",
    "data = pd.read_csv(filepath)"
   ]
  },
  {
   "cell_type": "code",
   "execution_count": 3,
   "metadata": {},
   "outputs": [
    {
     "data": {
      "text/plain": [
       "(       HURESPLI  HUFINAL  HULANGCODE  HETENURE  HEHOUSUT  HETELHHD  HETELAVL  \\\n",
       " 0             2      201           0         1         1         1        -1   \n",
       " 1             2      201           0         1         1         1        -1   \n",
       " 2             2      201           0         1         1         1        -1   \n",
       " 3             2      201           0         1         1         1        -1   \n",
       " 4             1      201           0         2         1         1        -1   \n",
       " ...         ...      ...         ...       ...       ...       ...       ...   \n",
       " 81817         1      201           0         1         1         1        -1   \n",
       " 81818         1      201           0         1         1         1        -1   \n",
       " 81819         1      201           0         1         1         1        -1   \n",
       " 81820         1      201           0         1         5         1        -1   \n",
       " 81821         1      201           0         1         5         1        -1   \n",
       " \n",
       "        HEPHONEO  HEFAMINC  HUTYPEA  ...  HESC2  HESC3  HESCF3  HESCM3  HESC3A  \\\n",
       " 0             1        14       -1  ...     -1     -1      -1      -1      -1   \n",
       " 1             1        14       -1  ...     -1     -1      -1      -1      -1   \n",
       " 2             1        14       -1  ...     -1     -1      -1      -1      -1   \n",
       " 3             1        14       -1  ...     -1     -1      -1      -1      -1   \n",
       " 4             1        13       -1  ...     -1     -1      -1      -1      -1   \n",
       " ...         ...       ...      ...  ...    ...    ...     ...     ...     ...   \n",
       " 81817         1        15       -1  ...     -1     -1      -1      -1      -1   \n",
       " 81818         1        14       -1  ...     -1     -1      -1      -1      -1   \n",
       " 81819         1        14       -1  ...     -1     -1      -1      -1      -1   \n",
       " 81820         1        14       -1  ...     -1     -1      -1      -1      -1   \n",
       " 81821         1        14       -1  ...     -1     -1      -1      -1      -1   \n",
       " \n",
       "        HESC4  HESCF4  HESCM4  HRSUPINT  HRPOOR  \n",
       " 0         -1      -1      -1         1       2  \n",
       " 1         -1      -1      -1         1       2  \n",
       " 2         -1      -1      -1         1       2  \n",
       " 3         -1      -1      -1         1       2  \n",
       " 4         -1      -1      -1         1       2  \n",
       " ...      ...     ...     ...       ...     ...  \n",
       " 81817     -1      -1      -1         1       2  \n",
       " 81818     -1      -1      -1         1       2  \n",
       " 81819     -1      -1      -1         1       2  \n",
       " 81820     -1      -1      -1         1       2  \n",
       " 81821     -1      -1      -1         1       2  \n",
       " \n",
       " [81822 rows x 469 columns],\n",
       " 0        0\n",
       " 1        0\n",
       " 2        0\n",
       " 3        0\n",
       " 4        0\n",
       "         ..\n",
       " 81817    0\n",
       " 81818    0\n",
       " 81819    0\n",
       " 81820    0\n",
       " 81821    0\n",
       " Name: HRFS12M1, Length: 81822, dtype: int64)"
      ]
     },
     "execution_count": 3,
     "metadata": {},
     "output_type": "execute_result"
    }
   ],
   "source": [
    "X = data.drop('HRFS12M1', axis=1)\n",
    "y = data['HRFS12M1']"
   ]
  },
  {
   "cell_type": "code",
   "execution_count": 4,
   "metadata": {},
   "outputs": [],
   "source": [
    "X_train, X_test, y_train, y_test = train_test_split(X, y, random_state=1234, stratify=y)"
   ]
  }
 ],
 "metadata": {
  "kernelspec": {
   "display_name": "Python 3",
   "language": "python",
   "name": "python3"
  },
  "language_info": {
   "codemirror_mode": {
    "name": "ipython",
    "version": 3
   },
   "file_extension": ".py",
   "mimetype": "text/x-python",
   "name": "python",
   "nbconvert_exporter": "python",
   "pygments_lexer": "ipython3",
   "version": "3.8.5"
  }
 },
 "nbformat": 4,
 "nbformat_minor": 4
}
